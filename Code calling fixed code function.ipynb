{
 "cells": [
  {
   "cell_type": "code",
   "execution_count": null,
   "id": "971a1872",
   "metadata": {},
   "outputs": [],
   "source": [
    "#import the abs_value function from the module code_to_fix.py\n",
    "from code_to_fix import abs_value\n",
    "\n",
    "#call the abs_value function \n",
    "print(abs_value(-37))"
   ]
  }
 ],
 "metadata": {
  "kernelspec": {
   "display_name": "Python 3",
   "language": "python",
   "name": "python3"
  },
  "language_info": {
   "name": "python",
   "version": "3.11.0"
  }
 },
 "nbformat": 4,
 "nbformat_minor": 5
}
